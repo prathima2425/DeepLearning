{
 "cells": [
  {
   "cell_type": "code",
   "execution_count": null,
   "id": "6149caf9",
   "metadata": {},
   "outputs": [],
   "source": [
    "pip install -U opencv-python"
   ]
  },
  {
   "cell_type": "code",
   "execution_count": null,
   "id": "255b42e9",
   "metadata": {},
   "outputs": [],
   "source": [
    "import cv2"
   ]
  },
  {
   "cell_type": "code",
   "execution_count": null,
   "id": "cbb11d18",
   "metadata": {},
   "outputs": [],
   "source": [
    "cv2.__version__"
   ]
  },
  {
   "cell_type": "code",
   "execution_count": null,
   "id": "b22b3717",
   "metadata": {},
   "outputs": [],
   "source": [
    "# get real time feeds from camera\n",
    "\n",
    "# enable Camera\n",
    "camera = cv2.VideoCapture(0)\n",
    "\n",
    "while(True):\n",
    "    _,frame=camera.read()\n",
    "    \n",
    "    cv2.imshow(\"My Camera Feed\", frame)\n",
    "    \n",
    "    if cv2.waitKey(1) & 0xFF == ord('q'):\n",
    "        break\n",
    "\n",
    "camera.release()\n",
    "cv2.destroyAllWindows()"
   ]
  },
  {
   "cell_type": "code",
   "execution_count": null,
   "id": "79418895",
   "metadata": {},
   "outputs": [],
   "source": [
    "camera.release()\n",
    "cv2.destroyAllWindows()"
   ]
  },
  {
   "cell_type": "code",
   "execution_count": null,
   "id": "1457abb3",
   "metadata": {},
   "outputs": [],
   "source": [
    "#Load image from the disk\n",
    "\n",
    "import cv2\n",
    "\n",
    "inputImage = cv2.imread('/Users/leonis/Desktop/Cohort_1/ADL_N_CV/cat1.jpeg')\n",
    "\n",
    "cv2.imshow(\"My Image\", inputImage)\n",
    "# press any key to terminate\n",
    "cv2.waitKey()\n",
    "# cleanup\n",
    "cv2.destroyAllWindows()"
   ]
  },
  {
   "cell_type": "code",
   "execution_count": null,
   "id": "4ef19335",
   "metadata": {},
   "outputs": [],
   "source": [
    "pwd"
   ]
  },
  {
   "cell_type": "code",
   "execution_count": null,
   "id": "20c843b1",
   "metadata": {},
   "outputs": [],
   "source": [
    "\n",
    "# create a dataset for face recognition model (10 Photos)\n",
    "# click 10 photos and store it in a folder\n",
    "\n",
    "import cv2\n",
    "# enable Camera\n",
    "camera = cv2.VideoCapture(0)\n",
    "\n",
    "counter = 1\n",
    "\n",
    "while(True):\n",
    "    _,frame=camera.read()\n",
    "    \n",
    "    \n",
    "    #store Frames\n",
    "    # make sure the create the directory before hand  to store the file\n",
    "    \n",
    "    cv2.imwrite(\"/Users/leonis/Desktop/Cohort_1/ADL_N_CV/dataset/fr_{}.jpg\".format(counter),frame)\n",
    "    print(\"Captured {}\".format(counter))\n",
    "    \n",
    "    if counter == 10:\n",
    "        print(\"Terminated Loop\")\n",
    "        break\n",
    "    else:\n",
    "        counter +=1\n",
    "# release camera and clear video memory\n",
    "camera.release()\n",
    "cv2.destroyAllWindows()"
   ]
  },
  {
   "cell_type": "code",
   "execution_count": null,
   "id": "6049561b",
   "metadata": {},
   "outputs": [],
   "source": [
    "camera.release()\n",
    "cv2.destroyAllWindows()"
   ]
  },
  {
   "cell_type": "code",
   "execution_count": null,
   "id": "df6ba538",
   "metadata": {},
   "outputs": [],
   "source": []
  },
  {
   "cell_type": "code",
   "execution_count": 2,
   "id": "7a8db201",
   "metadata": {},
   "outputs": [],
   "source": [
    "# how to draw a rectangle in a canvas\n",
    "\n",
    "import numpy as np\n",
    "import cv2\n",
    "\n",
    "imageExample = np.zeros((512,512,3),np.uint8)\n",
    "\n",
    "#cv2.rectangle(canvasImage, (x,y),(w,h),(b,g,r), thickness of the line)\n",
    "\n",
    "cv2.rectangle(imageExample, (50,50),(200,100),(0,255,0),2)\n",
    "\n",
    "cv2.imshow(\"Test\", imageExample)\n",
    "\n",
    "cv2.waitKey()\n",
    "cv2.destroyAllWindows()"
   ]
  },
  {
   "cell_type": "code",
   "execution_count": null,
   "id": "cde3db3b",
   "metadata": {},
   "outputs": [],
   "source": [
    "cv2.waitKey()\n",
    "cv2.destroyAllWindows()"
   ]
  },
  {
   "cell_type": "code",
   "execution_count": 3,
   "id": "a2c40b72",
   "metadata": {},
   "outputs": [],
   "source": [
    "#Face Detection using HaarCascade Model - which is predefined model which we can use\n",
    "import cv2\n",
    "\n",
    "# load the face detection model\n",
    "faceModel = cv2.CascadeClassifier(\"haarcascade_frontalface_default.xml\")\n",
    "\n",
    "# function to create rectangle\n",
    "\n",
    "def detectFaceFromCamera(frame):\n",
    "    imgCopy = frame.copy()\n",
    "    faceRectCords = faceModel.detectMultiScale(imgCopy)\n",
    "    for (x,y,w,h) in faceRectCords:\n",
    "        #cv2.rectangle(canvasImage, (x,y),(w,h),(b,g,r), thickness of the line)\n",
    "        # we need to add x, y values to w,h to fix the issue with rectangle not showing on the face\n",
    "        cv2.rectangle(imgCopy, (x,y),(x+w,y+h),(0,255,0),3)\n",
    "    return imgCopy\n",
    "\n",
    "camera = cv2.VideoCapture(0)\n",
    "\n",
    "while(True):\n",
    "    _,frame = camera.read()\n",
    "    \n",
    "    newFrame = detectFaceFromCamera(frame)\n",
    "    \n",
    "    cv2.imshow(\"My Camera Feed\", newFrame)\n",
    "    \n",
    "    if cv2.waitKey(1) & 0xFF == ord('q'):\n",
    "        break\n",
    "\n",
    "cv2.waitKey()\n",
    "cv2.destroyAllWindows()\n",
    "    "
   ]
  },
  {
   "cell_type": "code",
   "execution_count": null,
   "id": "55970043",
   "metadata": {},
   "outputs": [],
   "source": [
    "cv2.waitKey()\n",
    "cv2.destroyAllWindows()"
   ]
  },
  {
   "cell_type": "code",
   "execution_count": null,
   "id": "cc6b4f07",
   "metadata": {},
   "outputs": [],
   "source": []
  }
 ],
 "metadata": {
  "kernelspec": {
   "display_name": "Python 3",
   "language": "python",
   "name": "python3"
  },
  "language_info": {
   "codemirror_mode": {
    "name": "ipython",
    "version": 3
   },
   "file_extension": ".py",
   "mimetype": "text/x-python",
   "name": "python",
   "nbconvert_exporter": "python",
   "pygments_lexer": "ipython3",
   "version": "3.7.10"
  }
 },
 "nbformat": 4,
 "nbformat_minor": 5
}
